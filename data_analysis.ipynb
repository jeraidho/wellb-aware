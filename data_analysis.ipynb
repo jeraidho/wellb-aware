{
 "cells": [
  {
   "cell_type": "code",
   "execution_count": 1,
   "id": "5a206a9f-a353-430c-a787-40fb7ed397c3",
   "metadata": {},
   "outputs": [
    {
     "name": "stderr",
     "output_type": "stream",
     "text": [
      "/tmp/ipykernel_22290/2162656668.py:1: DeprecationWarning: \n",
      "Pyarrow will become a required dependency of pandas in the next major release of pandas (pandas 3.0),\n",
      "(to allow more performant data types, such as the Arrow string type, and better interoperability with other libraries)\n",
      "but was not found to be installed on your system.\n",
      "If this would cause problems for you,\n",
      "please provide us feedback at https://github.com/pandas-dev/pandas/issues/54466\n",
      "        \n",
      "  import pandas as pd\n"
     ]
    }
   ],
   "source": [
    "import pandas as pd\n",
    "import numpy as np"
   ]
  },
  {
   "cell_type": "code",
   "execution_count": 2,
   "id": "5f58c9ed-4fc2-4606-a594-0826f56cf5c1",
   "metadata": {},
   "outputs": [],
   "source": [
    "df = pd.read_json('RU_dataset.json')"
   ]
  },
  {
   "cell_type": "code",
   "execution_count": 3,
   "id": "f79ef039-7c51-4531-9c30-ae7a25f1b535",
   "metadata": {},
   "outputs": [],
   "source": [
    "df = df.rename(columns={0:'Texts', 1:'Annotation'})"
   ]
  },
  {
   "cell_type": "code",
   "execution_count": 4,
   "id": "ed950b3e-4933-4d2b-aff5-a43efcb44e11",
   "metadata": {},
   "outputs": [
    {
     "data": {
      "text/html": [
       "<div>\n",
       "<style scoped>\n",
       "    .dataframe tbody tr th:only-of-type {\n",
       "        vertical-align: middle;\n",
       "    }\n",
       "\n",
       "    .dataframe tbody tr th {\n",
       "        vertical-align: top;\n",
       "    }\n",
       "\n",
       "    .dataframe thead th {\n",
       "        text-align: right;\n",
       "    }\n",
       "</style>\n",
       "<table border=\"1\" class=\"dataframe\">\n",
       "  <thead>\n",
       "    <tr style=\"text-align: right;\">\n",
       "      <th></th>\n",
       "      <th>Texts</th>\n",
       "      <th>Annotation</th>\n",
       "    </tr>\n",
       "  </thead>\n",
       "  <tbody>\n",
       "    <tr>\n",
       "      <th>12885</th>\n",
       "      <td>У меня ничего не осталось. Моя девушка, с которой мы встречались почти три года, только что разорвала наши отношения, потому что ей кажется, что она не способна любить меня так же, как я люблю ее. Я потерял маму в сентябре 2017 года, когда моя девушка держала меня за руку. Мне не ради чего жить, я планировал свою жизнь после окончания школы вокруг нее, а теперь остался в руинах и одинок. У меня ничего не осталось, нет человека, который мог бы меня понять и полюбить, и не для кого работать. Я просто хочу через какое-то время проползти и умереть.</td>\n",
       "      <td>suicide</td>\n",
       "    </tr>\n",
       "    <tr>\n",
       "      <th>30522</th>\n",
       "      <td>До сих пор я не осознавал, что у меня такая серьезная проблема. Я просто смотрел на кучу таблеток минут пятнадцать. Я в порядке? Я вполне обоснованно думаю, что скоро сделаю это, и мне, вероятно, не помешал бы какой-нибудь совет.</td>\n",
       "      <td>suicide</td>\n",
       "    </tr>\n",
       "    <tr>\n",
       "      <th>25852</th>\n",
       "      <td>Мне больше не нравится ПРЛ, мой разум — это все, чем я являюсь, если у меня его нет, то у меня нет ничего. я только что причинил боль кому-то другому, кто только и делал, что заботился обо мне, потому что я, черт возьми, не могу контролировать свои чувства, клянусь, мне больше нельзя позволять существовать. я отпускаю</td>\n",
       "      <td>suicide</td>\n",
       "    </tr>\n",
       "    <tr>\n",
       "      <th>10489</th>\n",
       "      <td>Раскрой икры, если кто-то напомнит мне, что я знаю, что вы, милашки, хотите увидеть аккуратные икры</td>\n",
       "      <td>non-suicide</td>\n",
       "    </tr>\n",
       "    <tr>\n",
       "      <th>39444</th>\n",
       "      <td>пригласите меня на свои серверы Discord, спасибо</td>\n",
       "      <td>non-suicide</td>\n",
       "    </tr>\n",
       "  </tbody>\n",
       "</table>\n",
       "</div>"
      ],
      "text/plain": [
       "                                                                                                                                                                                                                                                                                                                                                                                                                                                                                                                                                                        Texts  \\\n",
       "12885  У меня ничего не осталось. Моя девушка, с которой мы встречались почти три года, только что разорвала наши отношения, потому что ей кажется, что она не способна любить меня так же, как я люблю ее. Я потерял маму в сентябре 2017 года, когда моя девушка держала меня за руку. Мне не ради чего жить, я планировал свою жизнь после окончания школы вокруг нее, а теперь остался в руинах и одинок. У меня ничего не осталось, нет человека, который мог бы меня понять и полюбить, и не для кого работать. Я просто хочу через какое-то время проползти и умереть.   \n",
       "30522                                                                                                                                                                                                                                                                                                                                   До сих пор я не осознавал, что у меня такая серьезная проблема. Я просто смотрел на кучу таблеток минут пятнадцать. Я в порядке? Я вполне обоснованно думаю, что скоро сделаю это, и мне, вероятно, не помешал бы какой-нибудь совет.   \n",
       "25852                                                                                                                                                                                                                                         Мне больше не нравится ПРЛ, мой разум — это все, чем я являюсь, если у меня его нет, то у меня нет ничего. я только что причинил боль кому-то другому, кто только и делал, что заботился обо мне, потому что я, черт возьми, не могу контролировать свои чувства, клянусь, мне больше нельзя позволять существовать. я отпускаю   \n",
       "10489                                                                                                                                                                                                                                                                                                                                                                                                                                                                     Раскрой икры, если кто-то напомнит мне, что я знаю, что вы, милашки, хотите увидеть аккуратные икры   \n",
       "39444                                                                                                                                                                                                                                                                                                                                                                                                                                                                                                                        пригласите меня на свои серверы Discord, спасибо   \n",
       "\n",
       "        Annotation  \n",
       "12885      suicide  \n",
       "30522      suicide  \n",
       "25852      suicide  \n",
       "10489  non-suicide  \n",
       "39444  non-suicide  "
      ]
     },
     "metadata": {},
     "output_type": "display_data"
    }
   ],
   "source": [
    "with pd.option_context('display.max_colwidth', None):\n",
    "    display(df.sample(5))"
   ]
  },
  {
   "cell_type": "code",
   "execution_count": 5,
   "id": "643a2938-8d01-4f2c-84ec-9cd2208accff",
   "metadata": {},
   "outputs": [
    {
     "data": {
      "text/plain": [
       "array(['suicide', 'non-suicide'], dtype=object)"
      ]
     },
     "execution_count": 5,
     "metadata": {},
     "output_type": "execute_result"
    }
   ],
   "source": [
    "df['Annotation'].unique()"
   ]
  },
  {
   "cell_type": "code",
   "execution_count": 6,
   "id": "4443c84e-f3b2-4855-803b-21b899a1a26a",
   "metadata": {},
   "outputs": [
    {
     "data": {
      "text/html": [
       "<div>\n",
       "<style scoped>\n",
       "    .dataframe tbody tr th:only-of-type {\n",
       "        vertical-align: middle;\n",
       "    }\n",
       "\n",
       "    .dataframe tbody tr th {\n",
       "        vertical-align: top;\n",
       "    }\n",
       "\n",
       "    .dataframe thead th {\n",
       "        text-align: right;\n",
       "    }\n",
       "</style>\n",
       "<table border=\"1\" class=\"dataframe\">\n",
       "  <thead>\n",
       "    <tr style=\"text-align: right;\">\n",
       "      <th></th>\n",
       "      <th>Texts</th>\n",
       "      <th>Annotation</th>\n",
       "      <th>Target</th>\n",
       "    </tr>\n",
       "  </thead>\n",
       "  <tbody>\n",
       "    <tr>\n",
       "      <th>0</th>\n",
       "      <td>Бывшая жена угрожает самоубийством Недавно я н...</td>\n",
       "      <td>suicide</td>\n",
       "      <td>1</td>\n",
       "    </tr>\n",
       "    <tr>\n",
       "      <th>1</th>\n",
       "      <td>Я странный? На меня не влияют комплименты, есл...</td>\n",
       "      <td>non-suicide</td>\n",
       "      <td>0</td>\n",
       "    </tr>\n",
       "    <tr>\n",
       "      <th>2</th>\n",
       "      <td>Наконец-то 2020 год почти закончился... Так чт...</td>\n",
       "      <td>non-suicide</td>\n",
       "      <td>0</td>\n",
       "    </tr>\n",
       "    <tr>\n",
       "      <th>3</th>\n",
       "      <td>мне нужна помощь, просто помоги мне, я так плачу</td>\n",
       "      <td>suicide</td>\n",
       "      <td>1</td>\n",
       "    </tr>\n",
       "    <tr>\n",
       "      <th>4</th>\n",
       "      <td>Я так растеряна. Здравствуйте, меня зовут Адам...</td>\n",
       "      <td>suicide</td>\n",
       "      <td>1</td>\n",
       "    </tr>\n",
       "    <tr>\n",
       "      <th>...</th>\n",
       "      <td>...</td>\n",
       "      <td>...</td>\n",
       "      <td>...</td>\n",
       "    </tr>\n",
       "    <tr>\n",
       "      <th>47992</th>\n",
       "      <td>Я только что увидел забавный мем, прежде чем п...</td>\n",
       "      <td>suicide</td>\n",
       "      <td>1</td>\n",
       "    </tr>\n",
       "    <tr>\n",
       "      <th>47993</th>\n",
       "      <td>Я боюсь, мне некому рассказать. У меня инфекци...</td>\n",
       "      <td>non-suicide</td>\n",
       "      <td>0</td>\n",
       "    </tr>\n",
       "    <tr>\n",
       "      <th>47994</th>\n",
       "      <td>Педофилия, членовредительство и мысли о самоуб...</td>\n",
       "      <td>suicide</td>\n",
       "      <td>1</td>\n",
       "    </tr>\n",
       "    <tr>\n",
       "      <th>47995</th>\n",
       "      <td>Я больше не могу справляться. Почти 2 месяца н...</td>\n",
       "      <td>suicide</td>\n",
       "      <td>1</td>\n",
       "    </tr>\n",
       "    <tr>\n",
       "      <th>47996</th>\n",
       "      <td>Мне нужен кто-то, кто сделает сюрприз моему дв...</td>\n",
       "      <td>non-suicide</td>\n",
       "      <td>0</td>\n",
       "    </tr>\n",
       "  </tbody>\n",
       "</table>\n",
       "<p>47997 rows × 3 columns</p>\n",
       "</div>"
      ],
      "text/plain": [
       "                                                   Texts   Annotation  Target\n",
       "0      Бывшая жена угрожает самоубийством Недавно я н...      suicide       1\n",
       "1      Я странный? На меня не влияют комплименты, есл...  non-suicide       0\n",
       "2      Наконец-то 2020 год почти закончился... Так чт...  non-suicide       0\n",
       "3       мне нужна помощь, просто помоги мне, я так плачу      suicide       1\n",
       "4      Я так растеряна. Здравствуйте, меня зовут Адам...      suicide       1\n",
       "...                                                  ...          ...     ...\n",
       "47992  Я только что увидел забавный мем, прежде чем п...      suicide       1\n",
       "47993  Я боюсь, мне некому рассказать. У меня инфекци...  non-suicide       0\n",
       "47994  Педофилия, членовредительство и мысли о самоуб...      suicide       1\n",
       "47995  Я больше не могу справляться. Почти 2 месяца н...      suicide       1\n",
       "47996  Мне нужен кто-то, кто сделает сюрприз моему дв...  non-suicide       0\n",
       "\n",
       "[47997 rows x 3 columns]"
      ]
     },
     "execution_count": 6,
     "metadata": {},
     "output_type": "execute_result"
    }
   ],
   "source": [
    "df['Target'] = df['Annotation'].apply(lambda x: 1 if x=='suicide' else 0)\n",
    "df"
   ]
  },
  {
   "cell_type": "markdown",
   "id": "f20bf53b",
   "metadata": {},
   "source": [
    "## Data analysis and preprocessing"
   ]
  },
  {
   "cell_type": "code",
   "execution_count": 7,
   "id": "840d7004-da72-4a05-b315-26d5414d4061",
   "metadata": {},
   "outputs": [
    {
     "data": {
      "text/plain": [
       "Annotation\n",
       "non-suicide    24081\n",
       "suicide        23916\n",
       "Name: count, dtype: int64"
      ]
     },
     "execution_count": 7,
     "metadata": {},
     "output_type": "execute_result"
    }
   ],
   "source": [
    "df['Annotation'].value_counts()"
   ]
  },
  {
   "cell_type": "code",
   "execution_count": 8,
   "id": "be777c70-6b3f-4cd0-a915-738b8faf73da",
   "metadata": {},
   "outputs": [
    {
     "data": {
      "text/plain": [
       "False"
      ]
     },
     "execution_count": 8,
     "metadata": {},
     "output_type": "execute_result"
    }
   ],
   "source": [
    "df['Texts'].isna().any()"
   ]
  },
  {
   "cell_type": "code",
   "execution_count": 9,
   "id": "ef5d0158-68bd-4e78-a9fc-a90934af9fba",
   "metadata": {},
   "outputs": [
    {
     "data": {
      "text/html": [
       "<div>\n",
       "<style scoped>\n",
       "    .dataframe tbody tr th:only-of-type {\n",
       "        vertical-align: middle;\n",
       "    }\n",
       "\n",
       "    .dataframe tbody tr th {\n",
       "        vertical-align: top;\n",
       "    }\n",
       "\n",
       "    .dataframe thead th {\n",
       "        text-align: right;\n",
       "    }\n",
       "</style>\n",
       "<table border=\"1\" class=\"dataframe\">\n",
       "  <thead>\n",
       "    <tr style=\"text-align: right;\">\n",
       "      <th></th>\n",
       "      <th>Texts</th>\n",
       "      <th>Annotation</th>\n",
       "      <th>Target</th>\n",
       "    </tr>\n",
       "  </thead>\n",
       "  <tbody>\n",
       "  </tbody>\n",
       "</table>\n",
       "</div>"
      ],
      "text/plain": [
       "Empty DataFrame\n",
       "Columns: [Texts, Annotation, Target]\n",
       "Index: []"
      ]
     },
     "execution_count": 9,
     "metadata": {},
     "output_type": "execute_result"
    }
   ],
   "source": [
    "df[df['Texts'] == '']"
   ]
  },
  {
   "cell_type": "code",
   "execution_count": 10,
   "id": "5fabd16e-dcb2-4fb4-8354-f85f1e08c54c",
   "metadata": {},
   "outputs": [],
   "source": [
    "df = df.drop_duplicates(subset=['Texts'])"
   ]
  },
  {
   "cell_type": "code",
   "execution_count": 11,
   "id": "e7e5b593",
   "metadata": {},
   "outputs": [],
   "source": [
    "import matplotlib.pyplot as plt\n",
    "import seaborn as sns"
   ]
  },
  {
   "cell_type": "code",
   "execution_count": 12,
   "id": "a5773ff1",
   "metadata": {},
   "outputs": [
    {
     "data": {
      "text/plain": [
       "<Axes: ylabel='count'>"
      ]
     },
     "execution_count": 12,
     "metadata": {},
     "output_type": "execute_result"
    },
    {
     "data": {
      "image/png": "[encoded data removed]",
      "text/plain": [
       "<Figure size 640x480 with 1 Axes>"
      ]
     },
     "metadata": {},
     "output_type": "display_data"
    }
   ],
   "source": [
    "df['Annotation'].value_counts().plot(kind='pie', autopct='%1.1f%%')"
   ]
  },
  {
   "cell_type": "markdown",
   "id": "a78e773b-0b27-4cf6-be24-2b52c55e1d16",
   "metadata": {},
   "source": [
    "*vectorizers*: tf-idf, word2vec\n",
    "*classifiers*: kNN, LogisticRegressionClassifier, Naive Bayes, SVM"
   ]
  },
  {
   "cell_type": "code",
   "execution_count": 13,
   "id": "c36ba08b-345d-47da-bd6e-f0b8abde2893",
   "metadata": {},
   "outputs": [
    {
     "name": "stderr",
     "output_type": "stream",
     "text": [
      "[nltk_data] Downloading package punkt to /home/byakubson/nltk_data...\n",
      "[nltk_data]   Package punkt is already up-to-date!\n"
     ]
    }
   ],
   "source": [
    "# let's implement preprocess: tokenization, filter by stopwords, normal form\n",
    "import nltk\n",
    "from nltk.tokenize import word_tokenize\n",
    "from nltk.corpus import stopwords\n",
    "from pymorphy2 import MorphAnalyzer\n",
    "\n",
    "morph = MorphAnalyzer()\n",
    "nltk.download('punkt')\n",
    "sw = stopwords.words('russian')"
   ]
  },
  {
   "cell_type": "code",
   "execution_count": 14,
   "id": "10b173cb-a797-42cf-8a86-88b064090719",
   "metadata": {},
   "outputs": [],
   "source": [
    "def preprocess_normal(doc):\n",
    "    words = [morph.parse(word.lower())[0].normal_form for word in word_tokenize(doc) if word.isalpha()]\n",
    "    filtered = [word for word in words if word not in sw]\n",
    "    return ' '.join(filtered)"
   ]
  },
  {
   "cell_type": "code",
   "execution_count": 15,
   "id": "06717404-cdf3-44ce-b7f2-59d26c633e9c",
   "metadata": {},
   "outputs": [],
   "source": [
    "def preprocess_tokenize(doc):\n",
    "    words = [word.lower() for word in word_tokenize(doc) if word.isalpha()]\n",
    "    filtered = [word for word in words if word not in sw]\n",
    "    return ' '.join(filtered)"
   ]
  },
  {
   "cell_type": "code",
   "execution_count": 16,
   "id": "dad46ee6-71d6-440b-883e-78e39299f56c",
   "metadata": {},
   "outputs": [
    {
     "name": "stdout",
     "output_type": "stream",
     "text": [
      "INFO: Pandarallel will run on 4 workers.\n",
      "INFO: Pandarallel will use Memory file system to transfer data between the main process and workers.\n"
     ]
    }
   ],
   "source": [
    "from pandarallel import pandarallel\n",
    "pandarallel.initialize(progress_bar=True)"
   ]
  },
  {
   "cell_type": "code",
   "execution_count": 17,
   "id": "287beb1d-8d5f-4630-8416-2f89aab8092c",
   "metadata": {},
   "outputs": [
    {
     "data": {
      "application/vnd.jupyter.widget-view+json": {
       "model_id": "51ec56ff3cf34fe59882817332ccb160",
       "version_major": 2,
       "version_minor": 0
      },
      "text/plain": [
       "VBox(children=(HBox(children=(IntProgress(value=0, description='0.00%', max=11999), Label(value='0 / 11999')))…"
      ]
     },
     "metadata": {},
     "output_type": "display_data"
    },
    {
     "name": "stderr",
     "output_type": "stream",
     "text": [
      "/tmp/ipykernel_22290/3381015055.py:1: SettingWithCopyWarning: \n",
      "A value is trying to be set on a copy of a slice from a DataFrame.\n",
      "Try using .loc[row_indexer,col_indexer] = value instead\n",
      "\n",
      "See the caveats in the documentation: https://pandas.pydata.org/pandas-docs/stable/user_guide/indexing.html#returning-a-view-versus-a-copy\n",
      "  df['Tokenised'] = df['Texts'].parallel_apply(preprocess_tokenize)\n"
     ]
    },
    {
     "data": {
      "application/vnd.jupyter.widget-view+json": {
       "model_id": "61b9f3b3bf784c09bfe27b7109aef498",
       "version_major": 2,
       "version_minor": 0
      },
      "text/plain": [
       "VBox(children=(HBox(children=(IntProgress(value=0, description='0.00%', max=11999), Label(value='0 / 11999')))…"
      ]
     },
     "metadata": {},
     "output_type": "display_data"
    },
    {
     "name": "stderr",
     "output_type": "stream",
     "text": [
      "/tmp/ipykernel_22290/3381015055.py:2: SettingWithCopyWarning: \n",
      "A value is trying to be set on a copy of a slice from a DataFrame.\n",
      "Try using .loc[row_indexer,col_indexer] = value instead\n",
      "\n",
      "See the caveats in the documentation: https://pandas.pydata.org/pandas-docs/stable/user_guide/indexing.html#returning-a-view-versus-a-copy\n",
      "  df['Normalised'] = df['Texts'].parallel_apply(preprocess_normal)\n"
     ]
    }
   ],
   "source": [
    "df['Tokenised'] = df['Texts'].parallel_apply(preprocess_tokenize)\n",
    "df['Normalised'] = df['Texts'].parallel_apply(preprocess_normal)"
   ]
  },
  {
   "cell_type": "code",
   "execution_count": 18,
   "id": "fc6703f5-8175-4720-b24a-6192025c0446",
   "metadata": {},
   "outputs": [
    {
     "data": {
      "text/html": [
       "<div>\n",
       "<style scoped>\n",
       "    .dataframe tbody tr th:only-of-type {\n",
       "        vertical-align: middle;\n",
       "    }\n",
       "\n",
       "    .dataframe tbody tr th {\n",
       "        vertical-align: top;\n",
       "    }\n",
       "\n",
       "    .dataframe thead th {\n",
       "        text-align: right;\n",
       "    }\n",
       "</style>\n",
       "<table border=\"1\" class=\"dataframe\">\n",
       "  <thead>\n",
       "    <tr style=\"text-align: right;\">\n",
       "      <th></th>\n",
       "      <th>Texts</th>\n",
       "      <th>Tokenised</th>\n",
       "      <th>Normalised</th>\n",
       "    </tr>\n",
       "  </thead>\n",
       "  <tbody>\n",
       "    <tr>\n",
       "      <th>47510</th>\n",
       "      <td>Мне просто нужна помощь прямо сейчас, я не знаю, что сказать, я просто не могу перестать плакать и боюсь</td>\n",
       "      <td>просто нужна помощь прямо знаю сказать просто могу перестать плакать боюсь</td>\n",
       "      <td>просто нужный помощь прямо знать сказать просто мочь перестать плакать бояться</td>\n",
       "    </tr>\n",
       "    <tr>\n",
       "      <th>9847</th>\n",
       "      <td>Google Meet - это глупо, как будто я захожу на это уже второй час и нажимаю кнопку выключения камеры, прежде чем вы уходите, чтобы присоединиться (как я почти уверен, что 99,9% этого сабвуфера так и делают), и эта кнопка выключила мою камеру в Экран присоединения к собранию, и он НЕ РАБОТАЕТ. Это привело меня на встречу с включенной камерой. Я не могу физически выразить, насколько мне не понравился этот опыт.</td>\n",
       "      <td>google meet это глупо захожу это второй час нажимаю кнопку выключения камеры прежде уходите присоединиться уверен сабвуфера делают эта кнопка выключила мою камеру экран присоединения собранию работает это привело встречу включенной камерой могу физически выразить насколько понравился опыт</td>\n",
       "      <td>google meet это глупо заходить это второй час нажимать кнопка выключение камера прежде уходить присоединиться уверенный это сабвуфер делать кнопка выключить камера экран присоединение собрание работать это привести встреча включить камера мочь физически выразить насколько понравиться опыт</td>\n",
       "    </tr>\n",
       "    <tr>\n",
       "      <th>16859</th>\n",
       "      <td>леденец – забавное название. я даже не знаю, как они называются\\n\\nя ем один прямо сейчас, спустя примерно 3 года. У меня были действительно странные правила питания, которые включали только питьевую воду и энергетические напитки. я видел в этом фруктовом мороженое замороженный сок, поэтому просто не стал его есть\\n\\nочевидно, я не следовал своим «правилам» на 100%, но по какой-то причине это действительно прижилось, но посмотрите на меня сейчас\\n\\nна самом деле это действительно смешно. я бы отказался от мороженого в жаркий летний день, а затем в ту же ночь выпил бы в четыре раза больше калорий, чем алкоголь\\n\\nя не знаю, как мой разум так работал, но это так</td>\n",
       "      <td>леденец забавное название знаю называются ем прямо спустя примерно года действительно странные правила питания которые включали питьевую воду энергетические напитки видел фруктовом мороженое замороженный сок поэтому просто стал очевидно следовал своим правилам причине это действительно прижилось посмотрите самом деле это действительно смешно отказался мороженого жаркий летний день затем ту ночь выпил четыре раза калорий алкоголь знаю разум работал это</td>\n",
       "      <td>леденец забавный название знать называться прямо спустя примерно год действительно странный правило питание который включать питьевой вода энергетический напиток видеть это фруктовый мороженое заморозить сок поэтому просто стать очевидный следовать свой правило причина это действительно прижиться посмотреть дело это действительно смешно отказаться мороженое жаркий летний день затем ночь выпить четыре большой калория алкоголь знать разум работать это</td>\n",
       "    </tr>\n",
       "    <tr>\n",
       "      <th>31721</th>\n",
       "      <td>Вы случайно хотели бы, чтобы у вас был близнец? Как будто я просто сижу и случайно думаю: «Было бы круто, если бы у тебя был близнец». Мы оба могли бы носить одинаковую одежду и прически и разыгрывать людей, p.s. Я ЗАВЕВУЮ БЛИЗНЕЦАМ</td>\n",
       "      <td>случайно хотели близнец просто сижу случайно думаю круто близнец оба могли носить одинаковую одежду прически разыгрывать людей завевую близнецам</td>\n",
       "      <td>случайно хотеть близнец просто сидеть случайно думать круто близнец оба мочь носить одинаковый одежда причёска разыгрывать человек завевой близнец</td>\n",
       "    </tr>\n",
       "    <tr>\n",
       "      <th>13089</th>\n",
       "      <td>Если ты читаешь этот банан</td>\n",
       "      <td>читаешь банан</td>\n",
       "      <td>читать банан</td>\n",
       "    </tr>\n",
       "  </tbody>\n",
       "</table>\n",
       "</div>"
      ],
      "text/plain": [
       "                                                                                                                                                                                                                                                                                                                                                                                                                                                                                                                                                                                                                                                                                              Texts  \\\n",
       "47510                                                                                                                                                                                                                                                                                                                                                                                                                                                                                                                                                                                      Мне просто нужна помощь прямо сейчас, я не знаю, что сказать, я просто не могу перестать плакать и боюсь   \n",
       "9847                                                                                                                                                                                                                                                                   Google Meet - это глупо, как будто я захожу на это уже второй час и нажимаю кнопку выключения камеры, прежде чем вы уходите, чтобы присоединиться (как я почти уверен, что 99,9% этого сабвуфера так и делают), и эта кнопка выключила мою камеру в Экран присоединения к собранию, и он НЕ РАБОТАЕТ. Это привело меня на встречу с включенной камерой. Я не могу физически выразить, насколько мне не понравился этот опыт.   \n",
       "16859  леденец – забавное название. я даже не знаю, как они называются\\n\\nя ем один прямо сейчас, спустя примерно 3 года. У меня были действительно странные правила питания, которые включали только питьевую воду и энергетические напитки. я видел в этом фруктовом мороженое замороженный сок, поэтому просто не стал его есть\\n\\nочевидно, я не следовал своим «правилам» на 100%, но по какой-то причине это действительно прижилось, но посмотрите на меня сейчас\\n\\nна самом деле это действительно смешно. я бы отказался от мороженого в жаркий летний день, а затем в ту же ночь выпил бы в четыре раза больше калорий, чем алкоголь\\n\\nя не знаю, как мой разум так работал, но это так   \n",
       "31721                                                                                                                                                                                                                                                                                                                                                                                                                                                      Вы случайно хотели бы, чтобы у вас был близнец? Как будто я просто сижу и случайно думаю: «Было бы круто, если бы у тебя был близнец». Мы оба могли бы носить одинаковую одежду и прически и разыгрывать людей, p.s. Я ЗАВЕВУЮ БЛИЗНЕЦАМ   \n",
       "13089                                                                                                                                                                                                                                                                                                                                                                                                                                                                                                                                                                                                                                                                    Если ты читаешь этот банан   \n",
       "\n",
       "                                                                                                                                                                                                                                                                                                                                                                                                                                                                     Tokenised  \\\n",
       "47510                                                                                                                                                                                                                                                                                                                                                                                               просто нужна помощь прямо знаю сказать просто могу перестать плакать боюсь   \n",
       "9847                                                                                                                                                                         google meet это глупо захожу это второй час нажимаю кнопку выключения камеры прежде уходите присоединиться уверен сабвуфера делают эта кнопка выключила мою камеру экран присоединения собранию работает это привело встречу включенной камерой могу физически выразить насколько понравился опыт   \n",
       "16859  леденец забавное название знаю называются ем прямо спустя примерно года действительно странные правила питания которые включали питьевую воду энергетические напитки видел фруктовом мороженое замороженный сок поэтому просто стал очевидно следовал своим правилам причине это действительно прижилось посмотрите самом деле это действительно смешно отказался мороженого жаркий летний день затем ту ночь выпил четыре раза калорий алкоголь знаю разум работал это   \n",
       "31721                                                                                                                                                                                                                                                                                                                         случайно хотели близнец просто сижу случайно думаю круто близнец оба могли носить одинаковую одежду прически разыгрывать людей завевую близнецам   \n",
       "13089                                                                                                                                                                                                                                                                                                                                                                                                                                                            читаешь банан   \n",
       "\n",
       "                                                                                                                                                                                                                                                                                                                                                                                                                                                                  Normalised  \n",
       "47510                                                                                                                                                                                                                                                                                                                                                                                         просто нужный помощь прямо знать сказать просто мочь перестать плакать бояться  \n",
       "9847                                                                                                                                                                       google meet это глупо заходить это второй час нажимать кнопка выключение камера прежде уходить присоединиться уверенный это сабвуфер делать кнопка выключить камера экран присоединение собрание работать это привести встреча включить камера мочь физически выразить насколько понравиться опыт  \n",
       "16859  леденец забавный название знать называться прямо спустя примерно год действительно странный правило питание который включать питьевой вода энергетический напиток видеть это фруктовый мороженое заморозить сок поэтому просто стать очевидный следовать свой правило причина это действительно прижиться посмотреть дело это действительно смешно отказаться мороженое жаркий летний день затем ночь выпить четыре большой калория алкоголь знать разум работать это  \n",
       "31721                                                                                                                                                                                                                                                                                                                     случайно хотеть близнец просто сидеть случайно думать круто близнец оба мочь носить одинаковый одежда причёска разыгрывать человек завевой близнец  \n",
       "13089                                                                                                                                                                                                                                                                                                                                                                                                                                                           читать банан  "
      ]
     },
     "metadata": {},
     "output_type": "display_data"
    }
   ],
   "source": [
    "with pd.option_context('display.max_colwidth', None):\n",
    "    display(df[['Texts', 'Tokenised', 'Normalised']].sample(5))"
   ]
  },
  {
   "cell_type": "markdown",
   "id": "0f43aeb8-2c89-48af-94db-564cb3ef9c8f",
   "metadata": {},
   "source": [
    "## Vectorization"
   ]
  },
  {
   "cell_type": "code",
   "execution_count": 19,
   "id": "287f5337-e9da-40ea-ac76-a8ea83557b6f",
   "metadata": {},
   "outputs": [],
   "source": [
    "from sklearn.model_selection import train_test_split\n",
    "\n",
    "# for just tokenised\n",
    "X_train, X_test, y_train, y_test = train_test_split(df['Tokenised'], df['Target'], test_size=0.2, stratify=df['Target'], random_state=42)\n",
    "# for normalised docs\n",
    "X_train_norm, X_test_norm, y_train_norm, y_test_norm = train_test_split(df['Normalised'], df['Target'], test_size=0.2, stratify=df['Target'], random_state=42)"
   ]
  },
  {
   "cell_type": "markdown",
   "id": "66a747ee-7802-4658-844a-08993ef6d471",
   "metadata": {},
   "source": [
    "### tf-idf"
   ]
  },
  {
   "cell_type": "code",
   "execution_count": 20,
   "id": "53ed7e6c-f8c8-4db5-b33d-4f55a71361ee",
   "metadata": {},
   "outputs": [],
   "source": [
    "# tf-idf\n",
    "from sklearn.feature_extraction.text import TfidfVectorizer\n",
    "\n",
    "tfidf = TfidfVectorizer()\n",
    "X_train_transformed = tfidf.fit_transform(X_train)\n",
    "X_test_transformed = tfidf.transform(X_test)\n",
    "\n",
    "tfidf_norm = TfidfVectorizer()\n",
    "X_train_norm_transformed = tfidf_norm.fit_transform(X_train_norm)\n",
    "X_test_norm_transformed = tfidf_norm.transform(X_test_norm)"
   ]
  },
  {
   "cell_type": "markdown",
   "id": "31542d8f-f584-47c3-bd0c-f8facc202728",
   "metadata": {},
   "source": [
    "### word2vec"
   ]
  },
  {
   "cell_type": "code",
   "execution_count": 21,
   "id": "c6222824-2f8f-4b71-8fa6-123136fe6c66",
   "metadata": {},
   "outputs": [],
   "source": [
    "# word2vec\n",
    "from gensim.models import Word2Vec\n",
    "\n",
    "tokens = [doc.split() for doc in X_train]\n",
    "w2v_model = Word2Vec(tokens, vector_size=100, window=5, min_count=5, workers=-1)"
   ]
  },
  {
   "cell_type": "code",
   "execution_count": 22,
   "id": "b6604fbd-ca19-4f66-93c6-7ca49170ddd1",
   "metadata": {},
   "outputs": [],
   "source": [
    "def vectorize(doc):\n",
    "    tokens = doc.split()\n",
    "    token_vecs = [w2v_model.wv[token] for token in tokens if token in w2v_model.wv]\n",
    "    return np.array(token_vecs).mean(axis=0) if len(token_vecs) != 0 else np.zeros(100)"
   ]
  },
  {
   "cell_type": "code",
   "execution_count": 23,
   "id": "947b47fd-97bf-4d51-9ed5-5fa882ae9c93",
   "metadata": {},
   "outputs": [],
   "source": [
    "# tokenised\n",
    "X2v_train = np.array([vectorize(doc) for doc in X_train])\n",
    "X2v_test = np.array([vectorize(doc) for doc in X_test])\n",
    "\n",
    "# normalised\n",
    "X2v_train_norm = np.array([vectorize(doc) for doc in X_train_norm])\n",
    "X2v_test_norm = np.array([vectorize(doc) for doc in X_test_norm])"
   ]
  },
  {
   "cell_type": "markdown",
   "id": "49032944-4576-4a2f-a015-3db84c0fb52f",
   "metadata": {},
   "source": [
    "## Classification"
   ]
  },
  {
   "cell_type": "code",
   "execution_count": 24,
   "id": "1773efe8-e625-4e15-a6d2-37cc4d1040c8",
   "metadata": {},
   "outputs": [],
   "source": [
    "# def for model evaluation\n",
    "from sklearn.metrics import accuracy_score, precision_score, recall_score, f1_score\n",
    "\n",
    "def eval(y_train, X_train, y_test, X_test, model):\n",
    "    print(f\"\"\"\n",
    "    Train:\n",
    "    Accuracy: {round(accuracy_score(y_train, model.predict(X_train)), 3)}\n",
    "    Precision: {round(precision_score(y_train, model.predict(X_train)), 3)}\n",
    "    Recall: {round(recall_score(y_train, model.predict(X_train)), 3)}\n",
    "    F1 score: {round(f1_score(y_train, model.predict(X_train)), 3)}\n",
    "    \n",
    "    Test:\n",
    "    Accuracy: {round(accuracy_score(y_test, model.predict(X_test)), 3)}\n",
    "    Precision: {round(precision_score(y_test, model.predict(X_test)), 3)}\n",
    "    Recall: {round(recall_score(y_test, model.predict(X_test)), 3)}\n",
    "    F1 score: {round(f1_score(y_test, model.predict(X_test)), 3)}\n",
    "    \"\"\")"
   ]
  },
  {
   "cell_type": "markdown",
   "id": "8e59aff1-0ed3-4a66-9c9d-8706f4c21c07",
   "metadata": {},
   "source": [
    "### TF-IDF"
   ]
  },
  {
   "cell_type": "code",
   "execution_count": 25,
   "id": "4fabf7f8-7bd6-4e6a-a161-2b57aed67079",
   "metadata": {},
   "outputs": [
    {
     "name": "stdout",
     "output_type": "stream",
     "text": [
      "LogisticRegression\n",
      "Tokenised\n",
      "\n",
      "    Train:\n",
      "    Accuracy: 0.943\n",
      "    Precision: 0.957\n",
      "    Recall: 0.928\n",
      "    F1 score: 0.942\n",
      "    \n",
      "    Test:\n",
      "    Accuracy: 0.914\n",
      "    Precision: 0.932\n",
      "    Recall: 0.893\n",
      "    F1 score: 0.912\n",
      "    \n",
      "Normalised\n",
      "\n",
      "    Train:\n",
      "    Accuracy: 0.94\n",
      "    Precision: 0.951\n",
      "    Recall: 0.926\n",
      "    F1 score: 0.939\n",
      "    \n",
      "    Test:\n",
      "    Accuracy: 0.919\n",
      "    Precision: 0.932\n",
      "    Recall: 0.903\n",
      "    F1 score: 0.918\n",
      "    \n"
     ]
    }
   ],
   "source": [
    "from sklearn.linear_model import LogisticRegression\n",
    "\n",
    "logclf, logclf_norm = LogisticRegression(n_jobs=-1), LogisticRegression(n_jobs=-1) \n",
    "logclf.fit(X_train_transformed, y_train)\n",
    "logclf_norm.fit(X_train_norm_transformed, y_train)\n",
    "\n",
    "print('LogisticRegression')\n",
    "print('Tokenised')\n",
    "eval(y_train, X_train_transformed, y_test, X_test_transformed, logclf)\n",
    "print('Normalised')\n",
    "eval(y_train, X_train_norm_transformed, y_test, X_test_norm_transformed, logclf_norm)"
   ]
  },
  {
   "cell_type": "code",
   "execution_count": 26,
   "id": "be2bd4c5-a924-4769-93da-d1a4a4107eb5",
   "metadata": {},
   "outputs": [
    {
     "name": "stdout",
     "output_type": "stream",
     "text": [
      "MultinomialNB\n",
      "Tokenised\n",
      "\n",
      "    Train:\n",
      "    Accuracy: 0.878\n",
      "    Precision: 0.809\n",
      "    Recall: 0.987\n",
      "    F1 score: 0.889\n",
      "    \n",
      "    Test:\n",
      "    Accuracy: 0.832\n",
      "    Precision: 0.755\n",
      "    Recall: 0.983\n",
      "    F1 score: 0.854\n",
      "    \n",
      "Normalised\n",
      "\n",
      "    Train:\n",
      "    Accuracy: 0.879\n",
      "    Precision: 0.815\n",
      "    Recall: 0.98\n",
      "    F1 score: 0.89\n",
      "    \n",
      "    Test:\n",
      "    Accuracy: 0.861\n",
      "    Precision: 0.793\n",
      "    Recall: 0.976\n",
      "    F1 score: 0.875\n",
      "    \n"
     ]
    }
   ],
   "source": [
    "from sklearn.naive_bayes import MultinomialNB\n",
    "\n",
    "mnbclf, mnbclf_norm  = MultinomialNB(), MultinomialNB() \n",
    "mnbclf.fit(X_train_transformed, y_train)\n",
    "mnbclf_norm.fit(X_train_norm_transformed, y_train)\n",
    "\n",
    "print('MultinomialNB')\n",
    "print('Tokenised')\n",
    "eval(y_train, X_train_transformed, y_test, X_test_transformed, mnbclf)\n",
    "print('Normalised')\n",
    "eval(y_train, X_train_norm_transformed, y_test, X_test_norm_transformed, mnbclf_norm)"
   ]
  },
  {
   "cell_type": "code",
   "execution_count": 27,
   "id": "b108fd81-0eb2-444a-bcdb-bb9a92c3229c",
   "metadata": {},
   "outputs": [
    {
     "name": "stdout",
     "output_type": "stream",
     "text": [
      "SVC\n",
      "Tokenised\n",
      "\n",
      "    Train:\n",
      "    Accuracy: 0.988\n",
      "    Precision: 0.987\n",
      "    Recall: 0.989\n",
      "    F1 score: 0.988\n",
      "    \n",
      "    Test:\n",
      "    Accuracy: 0.919\n",
      "    Precision: 0.934\n",
      "    Recall: 0.902\n",
      "    F1 score: 0.918\n",
      "    \n",
      "Normalised\n",
      "\n",
      "    Train:\n",
      "    Accuracy: 0.983\n",
      "    Precision: 0.983\n",
      "    Recall: 0.983\n",
      "    F1 score: 0.983\n",
      "    \n",
      "    Test:\n",
      "    Accuracy: 0.926\n",
      "    Precision: 0.936\n",
      "    Recall: 0.914\n",
      "    F1 score: 0.925\n",
      "    \n"
     ]
    }
   ],
   "source": [
    "from sklearn.svm import SVC\n",
    "import joblib\n",
    "\n",
    "svc, svc_norm = SVC(random_state=42), SVC(random_state=42)\n",
    "with joblib.parallel_backend(backend='loky', n_jobs=5):\n",
    "    svc.fit(X_train_transformed, y_train)\n",
    "    svc_norm.fit(X_train_norm_transformed, y_train)\n",
    "\n",
    "print('SVC')\n",
    "print('Tokenised')\n",
    "eval(y_train, X_train_transformed, y_test, X_test_transformed, svc)\n",
    "print('Normalised')\n",
    "eval(y_train, X_train_norm_transformed, y_test, X_test_norm_transformed, svc_norm)"
   ]
  },
  {
   "cell_type": "code",
   "execution_count": 28,
   "id": "96076863-9951-4962-88d0-d1753b74da1a",
   "metadata": {},
   "outputs": [
    {
     "name": "stdout",
     "output_type": "stream",
     "text": [
      "SGD\n",
      "Tokenised\n",
      "\n",
      "    Train:\n",
      "    Accuracy: 0.943\n",
      "    Precision: 0.957\n",
      "    Recall: 0.928\n",
      "    F1 score: 0.942\n",
      "    \n",
      "    Test:\n",
      "    Accuracy: 0.914\n",
      "    Precision: 0.931\n",
      "    Recall: 0.895\n",
      "    F1 score: 0.912\n",
      "    \n",
      "Normalised\n",
      "\n",
      "    Train:\n",
      "    Accuracy: 0.94\n",
      "    Precision: 0.95\n",
      "    Recall: 0.929\n",
      "    F1 score: 0.94\n",
      "    \n",
      "    Test:\n",
      "    Accuracy: 0.922\n",
      "    Precision: 0.932\n",
      "    Recall: 0.909\n",
      "    F1 score: 0.921\n",
      "    \n"
     ]
    }
   ],
   "source": [
    "from sklearn.linear_model import SGDClassifier\n",
    "\n",
    "sgd, sgd_norm = SGDClassifier(n_jobs=-1), SGDClassifier(n_jobs=-1)\n",
    "sgd.fit(X_train_transformed, y_train)\n",
    "sgd_norm.fit(X_train_norm_transformed, y_train)\n",
    "\n",
    "print('SGD')\n",
    "print('Tokenised')\n",
    "eval(y_train, X_train_transformed, y_test, X_test_transformed, sgd)\n",
    "print('Normalised')\n",
    "eval(y_train, X_train_norm_transformed, y_test, X_test_norm_transformed, sgd_norm)"
   ]
  },
  {
   "cell_type": "markdown",
   "id": "e70de65c-4cf4-4fd8-999d-a78a0c5597c4",
   "metadata": {},
   "source": [
    "### Word2vec"
   ]
  },
  {
   "cell_type": "code",
   "execution_count": 30,
   "id": "1dd26c92-42bd-4cb6-94da-2674db3325de",
   "metadata": {},
   "outputs": [
    {
     "name": "stdout",
     "output_type": "stream",
     "text": [
      "LogisticRegression\n",
      "Tokenised\n",
      "\n",
      "    Train:\n",
      "    Accuracy: 0.661\n",
      "    Precision: 0.687\n",
      "    Recall: 0.587\n",
      "    F1 score: 0.633\n",
      "    \n",
      "    Test:\n",
      "    Accuracy: 0.655\n",
      "    Precision: 0.68\n",
      "    Recall: 0.582\n",
      "    F1 score: 0.627\n",
      "    \n",
      "Normalised\n",
      "\n",
      "    Train:\n",
      "    Accuracy: 0.678\n",
      "    Precision: 0.688\n",
      "    Recall: 0.647\n",
      "    F1 score: 0.667\n",
      "    \n",
      "    Test:\n",
      "    Accuracy: 0.672\n",
      "    Precision: 0.679\n",
      "    Recall: 0.65\n",
      "    F1 score: 0.664\n",
      "    \n"
     ]
    }
   ],
   "source": [
    "logclf2v, logclf2v_norm = LogisticRegression(n_jobs=-1), LogisticRegression(n_jobs=-1) \n",
    "logclf2v.fit(X2v_train, y_train)\n",
    "logclf2v_norm.fit(X2v_train_norm, y_train)\n",
    "\n",
    "print('LogisticRegression')\n",
    "print('Tokenised')\n",
    "eval(y_train, X2v_train, y_test, X2v_test, logclf2v)\n",
    "print('Normalised')\n",
    "eval(y_train, X2v_train_norm, y_test, X2v_test_norm, logclf2v_norm)"
   ]
  },
  {
   "cell_type": "code",
   "execution_count": 32,
   "id": "bb7ba2a3-6ea4-4e28-931b-222c86066cae",
   "metadata": {},
   "outputs": [
    {
     "name": "stdout",
     "output_type": "stream",
     "text": [
      "MultinomialNB\n",
      "Tokenised\n",
      "\n",
      "    Train:\n",
      "    Accuracy: 0.632\n",
      "    Precision: 0.689\n",
      "    Recall: 0.478\n",
      "    F1 score: 0.564\n",
      "    \n",
      "    Test:\n",
      "    Accuracy: 0.632\n",
      "    Precision: 0.684\n",
      "    Recall: 0.485\n",
      "    F1 score: 0.567\n",
      "    \n",
      "Normalised\n",
      "\n",
      "    Train:\n",
      "    Accuracy: 0.653\n",
      "    Precision: 0.693\n",
      "    Recall: 0.543\n",
      "    F1 score: 0.609\n",
      "    \n",
      "    Test:\n",
      "    Accuracy: 0.64\n",
      "    Precision: 0.674\n",
      "    Recall: 0.537\n",
      "    F1 score: 0.598\n",
      "    \n"
     ]
    }
   ],
   "source": [
    "from sklearn.preprocessing import MinMaxScaler #fixed import\n",
    "scaler = MinMaxScaler()\n",
    "\n",
    "X2v_train_scaled = scaler.fit_transform(X2v_train)\n",
    "X2v_test_scaled = scaler.transform(X2v_test)\n",
    "\n",
    "X2v_train_norm_scaled = scaler.fit_transform(X2v_train_norm)\n",
    "X2v_test_norm_scaled = scaler.transform(X2v_test_norm)\n",
    "\n",
    "mnbclf2v, mnbclf2v_norm = MultinomialNB(), MultinomialNB() \n",
    "mnbclf2v.fit(X2v_train_scaled, y_train)\n",
    "mnbclf2v_norm.fit(X2v_train_norm_scaled, y_train)\n",
    "\n",
    "print('MultinomialNB')\n",
    "print('Tokenised')\n",
    "eval(y_train, X2v_train_scaled, y_test, X2v_test_scaled, mnbclf2v)\n",
    "print('Normalised')\n",
    "eval(y_train, X2v_train_norm_scaled, y_test, X2v_test_norm_scaled, mnbclf2v_norm)"
   ]
  },
  {
   "cell_type": "code",
   "execution_count": 33,
   "id": "02f50c7e-439e-46ba-baec-25329a1de9f5",
   "metadata": {},
   "outputs": [
    {
     "name": "stdout",
     "output_type": "stream",
     "text": [
      "SGD\n",
      "Tokenised\n",
      "\n",
      "    Train:\n",
      "    Accuracy: 0.5\n",
      "    Precision: 0.499\n",
      "    Recall: 1.0\n",
      "    F1 score: 0.666\n",
      "    \n",
      "    Test:\n",
      "    Accuracy: 0.5\n",
      "    Precision: 0.499\n",
      "    Recall: 1.0\n",
      "    F1 score: 0.666\n",
      "    \n",
      "Normalised\n",
      "\n",
      "    Train:\n",
      "    Accuracy: 0.498\n",
      "    Precision: 0.498\n",
      "    Recall: 1.0\n",
      "    F1 score: 0.665\n",
      "    \n",
      "    Test:\n",
      "    Accuracy: 0.498\n",
      "    Precision: 0.498\n",
      "    Recall: 1.0\n",
      "    F1 score: 0.665\n",
      "    \n"
     ]
    }
   ],
   "source": [
    "from sklearn.linear_model import SGDClassifier\n",
    "\n",
    "sgd2v, sgd2v_norm = SGDClassifier(n_jobs=-1), SGDClassifier(n_jobs=-1)\n",
    "sgd2v.fit(X2v_train, y_train)\n",
    "sgd2v_norm.fit(X2v_train_norm, y_train)\n",
    "\n",
    "print('SGD')\n",
    "print('Tokenised')\n",
    "eval(y_train, X2v_train, y_test, X2v_test, sgd2v)\n",
    "print('Normalised')\n",
    "eval(y_train, X2v_train_norm, y_test, X2v_test_norm, sgd2v_norm)"
   ]
  },
  {
   "cell_type": "markdown",
   "id": "8b473031-5d28-4e2c-bc99-f3fc41be9d5e",
   "metadata": {},
   "source": [
    "## Solution"
   ]
  },
  {
   "cell_type": "markdown",
   "id": "5db9380a-81a1-4b0c-b409-8852fa3b95fc",
   "metadata": {},
   "source": [
    "Лучший recall при неплохих других метриках показывает Наивный Байесовский классификатор при приведении токенов к нормальной форме. Теперь можно выбрать гиперпараметры для улучшения модели "
   ]
  },
  {
   "cell_type": "code",
   "execution_count": 48,
   "id": "b411269d-2b70-4e41-8413-ccfdab72ce53",
   "metadata": {},
   "outputs": [
    {
     "name": "stdout",
     "output_type": "stream",
     "text": [
      "{'alpha': 1.0}\n",
      "Normalised\n",
      "\n",
      "    Train:\n",
      "    Accuracy: 0.879\n",
      "    Precision: 0.815\n",
      "    Recall: 0.98\n",
      "    F1 score: 0.89\n",
      "    \n",
      "    Test:\n",
      "    Accuracy: 0.861\n",
      "    Precision: 0.793\n",
      "    Recall: 0.976\n",
      "    F1 score: 0.875\n",
      "    \n"
     ]
    }
   ],
   "source": [
    "from sklearn.model_selection import GridSearchCV\n",
    "\n",
    "gridclf = GridSearchCV(\n",
    "    estimator=MultinomialNB(),\n",
    "    param_grid = {\"alpha\": [0.00001, 0.0001, 0.001, 0.1, 1.0, 10, 50, 100, 200, 500]},\n",
    "    cv=5,\n",
    "    n_jobs=-1,\n",
    "    return_train_score=True,\n",
    "    scoring='roc_auc'\n",
    ")\n",
    "gridclf.fit(X_train_norm_transformed, y_train)\n",
    "print(gridclf.best_params_)\n",
    "print('Normalised')\n",
    "eval(y_train, X_train_norm_transformed, y_test, X_test_norm_transformed, gridclf)"
   ]
  }
 ],
 "metadata": {
  "kernelspec": {
   "display_name": ".venv",
   "language": "python",
   "name": ".venv"
  },
  "language_info": {
   "codemirror_mode": {
    "name": "ipython",
    "version": 3
   },
   "file_extension": ".py",
   "mimetype": "text/x-python",
   "name": "python",
   "nbconvert_exporter": "python",
   "pygments_lexer": "ipython3",
   "version": "3.10.12"
  }
 },
 "nbformat": 4,
 "nbformat_minor": 5
}
