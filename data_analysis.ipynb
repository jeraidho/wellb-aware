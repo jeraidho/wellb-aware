{
 "cells": [
  {
   "cell_type": "code",
   "execution_count": 2,
   "id": "5a206a9f-a353-430c-a787-40fb7ed397c3",
   "metadata": {},
   "outputs": [
    {
     "name": "stderr",
     "output_type": "stream",
     "text": [
      "/tmp/ipykernel_9137/4080736814.py:1: DeprecationWarning: \n",
      "Pyarrow will become a required dependency of pandas in the next major release of pandas (pandas 3.0),\n",
      "(to allow more performant data types, such as the Arrow string type, and better interoperability with other libraries)\n",
      "but was not found to be installed on your system.\n",
      "If this would cause problems for you,\n",
      "please provide us feedback at https://github.com/pandas-dev/pandas/issues/54466\n",
      "        \n",
      "  import pandas as pd\n"
     ]
    }
   ],
   "source": [
    "import pandas as pd"
   ]
  },
  {
   "cell_type": "code",
   "execution_count": 3,
   "id": "5f58c9ed-4fc2-4606-a594-0826f56cf5c1",
   "metadata": {},
   "outputs": [],
   "source": [
    "df = pd.read_json('RU_dataset.json')"
   ]
  },
  {
   "cell_type": "code",
   "execution_count": 4,
   "id": "f79ef039-7c51-4531-9c30-ae7a25f1b535",
   "metadata": {},
   "outputs": [],
   "source": [
    "df = df.rename(columns={0:'Texts', 1:'Annotation'})"
   ]
  },
  {
   "cell_type": "code",
   "execution_count": 5,
   "id": "ed950b3e-4933-4d2b-aff5-a43efcb44e11",
   "metadata": {},
   "outputs": [
    {
     "data": {
      "text/html": [
       "<div>\n",
       "<style scoped>\n",
       "    .dataframe tbody tr th:only-of-type {\n",
       "        vertical-align: middle;\n",
       "    }\n",
       "\n",
       "    .dataframe tbody tr th {\n",
       "        vertical-align: top;\n",
       "    }\n",
       "\n",
       "    .dataframe thead th {\n",
       "        text-align: right;\n",
       "    }\n",
       "</style>\n",
       "<table border=\"1\" class=\"dataframe\">\n",
       "  <thead>\n",
       "    <tr style=\"text-align: right;\">\n",
       "      <th></th>\n",
       "      <th>Texts</th>\n",
       "      <th>Annotation</th>\n",
       "    </tr>\n",
       "  </thead>\n",
       "  <tbody>\n",
       "    <tr>\n",
       "      <th>2790</th>\n",
       "      <td>Онлайн школа. Онлайн-школа — это смешно, я ее очень ненавижу, не буду врать. Я думаю, что школа стала намного сложнее, и учителя просто продолжают работать, работать, работать. А ответы на любые вопросы занимают день или больше. Как человек, который задает массу вопросов, это снижает мои оценки.\\n\\nК сожалению, мы ничего не можем сделать, поэтому я посылаю любовь и надежду всем, у кого такие же проблемы.</td>\n",
       "      <td>non-suicide</td>\n",
       "    </tr>\n",
       "    <tr>\n",
       "      <th>42522</th>\n",
       "      <td>Никто больше не любит ту же музыку, как и Эминем и Linkin Park. Там потрясающе, я не знаю, почему они не нравятся моим друзьям</td>\n",
       "      <td>non-suicide</td>\n",
       "    </tr>\n",
       "    <tr>\n",
       "      <th>47237</th>\n",
       "      <td>Слушая песню Адама от Blink 182, я всегда плачу. Напоминает мне о времени, когда я пытался совершить поступок.</td>\n",
       "      <td>non-suicide</td>\n",
       "    </tr>\n",
       "    <tr>\n",
       "      <th>46282</th>\n",
       "      <td>Завтра мой день рождения. Завтра мой последний день жизни. Как многие из вас знают, я отсчитываю время до своего дня рождения, потому что точно решил, что это тот самый день. Я думаю, это будет довольно легко, потому что завтра я уже буду чувствовать себя дерьмово, потому что большинство меня не поздравят с днем ​​рождения, и у меня нет планов на завтра. Я до сих пор не определился со своим методом. Но да, завтра 11 июня.</td>\n",
       "      <td>suicide</td>\n",
       "    </tr>\n",
       "    <tr>\n",
       "      <th>3838</th>\n",
       "      <td>Цитата дня. «Небеса — это очередная ложь! А если ты в это веришь, то ты идиот!»</td>\n",
       "      <td>non-suicide</td>\n",
       "    </tr>\n",
       "  </tbody>\n",
       "</table>\n",
       "</div>"
      ],
      "text/plain": [
       "                                                                                                                                                                                                                                                                                                                                                                                                                                           Texts  \\\n",
       "2790                     Онлайн школа. Онлайн-школа — это смешно, я ее очень ненавижу, не буду врать. Я думаю, что школа стала намного сложнее, и учителя просто продолжают работать, работать, работать. А ответы на любые вопросы занимают день или больше. Как человек, который задает массу вопросов, это снижает мои оценки.\\n\\nК сожалению, мы ничего не можем сделать, поэтому я посылаю любовь и надежду всем, у кого такие же проблемы.   \n",
       "42522                                                                                                                                                                                                                                                                                                             Никто больше не любит ту же музыку, как и Эминем и Linkin Park. Там потрясающе, я не знаю, почему они не нравятся моим друзьям   \n",
       "47237                                                                                                                                                                                                                                                                                                                             Слушая песню Адама от Blink 182, я всегда плачу. Напоминает мне о времени, когда я пытался совершить поступок.   \n",
       "46282  Завтра мой день рождения. Завтра мой последний день жизни. Как многие из вас знают, я отсчитываю время до своего дня рождения, потому что точно решил, что это тот самый день. Я думаю, это будет довольно легко, потому что завтра я уже буду чувствовать себя дерьмово, потому что большинство меня не поздравят с днем ​​рождения, и у меня нет планов на завтра. Я до сих пор не определился со своим методом. Но да, завтра 11 июня.   \n",
       "3838                                                                                                                                                                                                                                                                                                                                                             Цитата дня. «Небеса — это очередная ложь! А если ты в это веришь, то ты идиот!»   \n",
       "\n",
       "        Annotation  \n",
       "2790   non-suicide  \n",
       "42522  non-suicide  \n",
       "47237  non-suicide  \n",
       "46282      suicide  \n",
       "3838   non-suicide  "
      ]
     },
     "metadata": {},
     "output_type": "display_data"
    }
   ],
   "source": [
    "with pd.option_context('display.max_colwidth', None):\n",
    "    display(df.sample(5))"
   ]
  },
  {
   "cell_type": "code",
   "execution_count": 6,
   "id": "643a2938-8d01-4f2c-84ec-9cd2208accff",
   "metadata": {},
   "outputs": [
    {
     "data": {
      "text/plain": [
       "array(['suicide', 'non-suicide'], dtype=object)"
      ]
     },
     "execution_count": 6,
     "metadata": {},
     "output_type": "execute_result"
    }
   ],
   "source": [
    "df['Annotation'].unique()"
   ]
  },
  {
   "cell_type": "code",
   "execution_count": 7,
   "id": "4443c84e-f3b2-4855-803b-21b899a1a26a",
   "metadata": {},
   "outputs": [
    {
     "data": {
      "text/html": [
       "<div>\n",
       "<style scoped>\n",
       "    .dataframe tbody tr th:only-of-type {\n",
       "        vertical-align: middle;\n",
       "    }\n",
       "\n",
       "    .dataframe tbody tr th {\n",
       "        vertical-align: top;\n",
       "    }\n",
       "\n",
       "    .dataframe thead th {\n",
       "        text-align: right;\n",
       "    }\n",
       "</style>\n",
       "<table border=\"1\" class=\"dataframe\">\n",
       "  <thead>\n",
       "    <tr style=\"text-align: right;\">\n",
       "      <th></th>\n",
       "      <th>Texts</th>\n",
       "      <th>Annotation</th>\n",
       "      <th>Target</th>\n",
       "    </tr>\n",
       "  </thead>\n",
       "  <tbody>\n",
       "    <tr>\n",
       "      <th>0</th>\n",
       "      <td>Бывшая жена угрожает самоубийством Недавно я н...</td>\n",
       "      <td>suicide</td>\n",
       "      <td>1</td>\n",
       "    </tr>\n",
       "    <tr>\n",
       "      <th>1</th>\n",
       "      <td>Я странный? На меня не влияют комплименты, есл...</td>\n",
       "      <td>non-suicide</td>\n",
       "      <td>0</td>\n",
       "    </tr>\n",
       "    <tr>\n",
       "      <th>2</th>\n",
       "      <td>Наконец-то 2020 год почти закончился... Так чт...</td>\n",
       "      <td>non-suicide</td>\n",
       "      <td>0</td>\n",
       "    </tr>\n",
       "    <tr>\n",
       "      <th>3</th>\n",
       "      <td>мне нужна помощь, просто помоги мне, я так плачу</td>\n",
       "      <td>suicide</td>\n",
       "      <td>1</td>\n",
       "    </tr>\n",
       "    <tr>\n",
       "      <th>4</th>\n",
       "      <td>Я так растеряна. Здравствуйте, меня зовут Адам...</td>\n",
       "      <td>suicide</td>\n",
       "      <td>1</td>\n",
       "    </tr>\n",
       "    <tr>\n",
       "      <th>...</th>\n",
       "      <td>...</td>\n",
       "      <td>...</td>\n",
       "      <td>...</td>\n",
       "    </tr>\n",
       "    <tr>\n",
       "      <th>47992</th>\n",
       "      <td>Я только что увидел забавный мем, прежде чем п...</td>\n",
       "      <td>suicide</td>\n",
       "      <td>1</td>\n",
       "    </tr>\n",
       "    <tr>\n",
       "      <th>47993</th>\n",
       "      <td>Я боюсь, мне некому рассказать. У меня инфекци...</td>\n",
       "      <td>non-suicide</td>\n",
       "      <td>0</td>\n",
       "    </tr>\n",
       "    <tr>\n",
       "      <th>47994</th>\n",
       "      <td>Педофилия, членовредительство и мысли о самоуб...</td>\n",
       "      <td>suicide</td>\n",
       "      <td>1</td>\n",
       "    </tr>\n",
       "    <tr>\n",
       "      <th>47995</th>\n",
       "      <td>Я больше не могу справляться. Почти 2 месяца н...</td>\n",
       "      <td>suicide</td>\n",
       "      <td>1</td>\n",
       "    </tr>\n",
       "    <tr>\n",
       "      <th>47996</th>\n",
       "      <td>Мне нужен кто-то, кто сделает сюрприз моему дв...</td>\n",
       "      <td>non-suicide</td>\n",
       "      <td>0</td>\n",
       "    </tr>\n",
       "  </tbody>\n",
       "</table>\n",
       "<p>47997 rows × 3 columns</p>\n",
       "</div>"
      ],
      "text/plain": [
       "                                                   Texts   Annotation  Target\n",
       "0      Бывшая жена угрожает самоубийством Недавно я н...      suicide       1\n",
       "1      Я странный? На меня не влияют комплименты, есл...  non-suicide       0\n",
       "2      Наконец-то 2020 год почти закончился... Так чт...  non-suicide       0\n",
       "3       мне нужна помощь, просто помоги мне, я так плачу      suicide       1\n",
       "4      Я так растеряна. Здравствуйте, меня зовут Адам...      suicide       1\n",
       "...                                                  ...          ...     ...\n",
       "47992  Я только что увидел забавный мем, прежде чем п...      suicide       1\n",
       "47993  Я боюсь, мне некому рассказать. У меня инфекци...  non-suicide       0\n",
       "47994  Педофилия, членовредительство и мысли о самоуб...      suicide       1\n",
       "47995  Я больше не могу справляться. Почти 2 месяца н...      suicide       1\n",
       "47996  Мне нужен кто-то, кто сделает сюрприз моему дв...  non-suicide       0\n",
       "\n",
       "[47997 rows x 3 columns]"
      ]
     },
     "execution_count": 7,
     "metadata": {},
     "output_type": "execute_result"
    }
   ],
   "source": [
    "df['Target'] = df['Annotation'].apply(lambda x: 1 if x=='suicide' else 0)\n",
    "df"
   ]
  },
  {
   "cell_type": "markdown",
   "id": "f20bf53b",
   "metadata": {},
   "source": [
    "## Data analysis and preprocessing"
   ]
  },
  {
   "cell_type": "code",
   "execution_count": 8,
   "id": "840d7004-da72-4a05-b315-26d5414d4061",
   "metadata": {},
   "outputs": [
    {
     "data": {
      "text/plain": [
       "Annotation\n",
       "non-suicide    24081\n",
       "suicide        23916\n",
       "Name: count, dtype: int64"
      ]
     },
     "execution_count": 8,
     "metadata": {},
     "output_type": "execute_result"
    }
   ],
   "source": [
    "df['Annotation'].value_counts()"
   ]
  },
  {
   "cell_type": "code",
   "execution_count": 9,
   "id": "be777c70-6b3f-4cd0-a915-738b8faf73da",
   "metadata": {},
   "outputs": [
    {
     "data": {
      "text/plain": [
       "False"
      ]
     },
     "execution_count": 9,
     "metadata": {},
     "output_type": "execute_result"
    }
   ],
   "source": [
    "df['Texts'].isnull().any()"
   ]
  },
  {
   "cell_type": "code",
   "execution_count": 10,
   "id": "ef5d0158-68bd-4e78-a9fc-a90934af9fba",
   "metadata": {},
   "outputs": [
    {
     "data": {
      "text/html": [
       "<div>\n",
       "<style scoped>\n",
       "    .dataframe tbody tr th:only-of-type {\n",
       "        vertical-align: middle;\n",
       "    }\n",
       "\n",
       "    .dataframe tbody tr th {\n",
       "        vertical-align: top;\n",
       "    }\n",
       "\n",
       "    .dataframe thead th {\n",
       "        text-align: right;\n",
       "    }\n",
       "</style>\n",
       "<table border=\"1\" class=\"dataframe\">\n",
       "  <thead>\n",
       "    <tr style=\"text-align: right;\">\n",
       "      <th></th>\n",
       "      <th>Texts</th>\n",
       "      <th>Annotation</th>\n",
       "      <th>Target</th>\n",
       "    </tr>\n",
       "  </thead>\n",
       "  <tbody>\n",
       "  </tbody>\n",
       "</table>\n",
       "</div>"
      ],
      "text/plain": [
       "Empty DataFrame\n",
       "Columns: [Texts, Annotation, Target]\n",
       "Index: []"
      ]
     },
     "execution_count": 10,
     "metadata": {},
     "output_type": "execute_result"
    }
   ],
   "source": [
    "df[df['Texts'] == '']"
   ]
  },
  {
   "cell_type": "code",
   "execution_count": 12,
   "id": "5fabd16e-dcb2-4fb4-8354-f85f1e08c54c",
   "metadata": {},
   "outputs": [],
   "source": [
    "df = df.drop_duplicates(subset=['Texts'])"
   ]
  },
  {
   "cell_type": "code",
   "execution_count": 18,
   "id": "e7e5b593",
   "metadata": {},
   "outputs": [],
   "source": [
    "import matplotlib.pyplot as plt\n",
    "import seaborn as sns"
   ]
  },
  {
   "cell_type": "code",
   "execution_count": 20,
   "id": "c123f880",
   "metadata": {},
   "outputs": [],
   "source": [
    "plt.style.use('seaborn-v0_8')"
   ]
  },
  {
   "cell_type": "code",
   "execution_count": 32,
   "id": "a5773ff1",
   "metadata": {},
   "outputs": [
    {
     "data": {
      "text/plain": [
       "<Axes: title={'center': 'Data balance'}>"
      ]
     },
     "execution_count": 32,
     "metadata": {},
     "output_type": "execute_result"
    },
    {
     "data": {
      "image/png": "[encoded data removed]",
      "text/plain": [
       "<Figure size 800x550 with 1 Axes>"
      ]
     },
     "metadata": {},
     "output_type": "display_data"
    }
   ],
   "source": [
    "plt.figure()\n",
    "plt.title('Data balance')\n",
    "df['Annotation'].hist(bins=3)"
   ]
  }
 ],
 "metadata": {
  "kernelspec": {
   "display_name": "Python 3 (ipykernel)",
   "language": "python",
   "name": "python3"
  },
  "language_info": {
   "codemirror_mode": {
    "name": "ipython",
    "version": 3
   },
   "file_extension": ".py",
   "mimetype": "text/x-python",
   "name": "python",
   "nbconvert_exporter": "python",
   "pygments_lexer": "ipython3",
   "version": "3.10.12"
  }
 },
 "nbformat": 4,
 "nbformat_minor": 5
}
